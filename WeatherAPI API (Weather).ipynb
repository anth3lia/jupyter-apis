{
 "cells": [
  {
   "cell_type": "markdown",
   "metadata": {},
   "source": [
    "# WeatherAPI (Weather)\n",
    "\n",
    "Answer the following questions using [WeatherAPI](http://www.weatherapi.com/). I've added three cells for most questions but you're free to use more or less! Hold `Shift` and hit `Enter` to run a cell, and use the `+` on the top left to add a new cell to a notebook.\n",
    "\n",
    "Be sure to take advantage of both the documentation and the API Explorer!\n",
    "\n",
    "## 0) Import any libraries you might need\n",
    "\n",
    "- *Tip: We're going to be downloading things from the internet, so we probably need `requests`.*\n",
    "- *Tip: Remember you only need to import requests once!*"
   ]
  },
  {
   "cell_type": "code",
   "execution_count": 1,
   "metadata": {},
   "outputs": [],
   "source": [
    "import requests"
   ]
  },
  {
   "cell_type": "code",
   "execution_count": null,
   "metadata": {},
   "outputs": [],
   "source": []
  },
  {
   "cell_type": "markdown",
   "metadata": {
    "collapsed": true
   },
   "source": [
    "## 1) Make a request to the Weather API for where you were born (or lived, or want to visit!).\n",
    "\n",
    "- *Tip: This sure seems familiar.*"
   ]
  },
  {
   "cell_type": "code",
   "execution_count": 2,
   "metadata": {},
   "outputs": [],
   "source": [
    "mtl_weather = requests.get(\"https://api.weatherapi.com/v1/current.json?key=YOUR_KEY_HERE&q=Montreal&days=1&aqi=no&alerts=no\").json()"
   ]
  },
  {
   "cell_type": "code",
   "execution_count": null,
   "metadata": {},
   "outputs": [],
   "source": []
  },
  {
   "cell_type": "code",
   "execution_count": null,
   "metadata": {},
   "outputs": [],
   "source": []
  },
  {
   "cell_type": "markdown",
   "metadata": {},
   "source": [
    "## 2) What's the current wind speed, and how much warmer does it feel than it actually is?\n",
    "\n",
    "- *Tip: You can do this by browsing through the dictionaries, but it might be easier to read the documentation*\n",
    "- *Tip: For the second half: it **is** one temperature, and it **feels** a different temperature. Calculate the difference. Same as we did last time!*"
   ]
  },
  {
   "cell_type": "code",
   "execution_count": 3,
   "metadata": {},
   "outputs": [],
   "source": [
    "wind_mph = mtl_weather['current']['wind_mph']"
   ]
  },
  {
   "cell_type": "code",
   "execution_count": 4,
   "metadata": {},
   "outputs": [],
   "source": [
    "current_temp_f = mtl_weather['current']['temp_f']"
   ]
  },
  {
   "cell_type": "code",
   "execution_count": 5,
   "metadata": {},
   "outputs": [],
   "source": [
    "feelslike_f = mtl_weather['current']['feelslike_f']"
   ]
  },
  {
   "cell_type": "code",
   "execution_count": 6,
   "metadata": {},
   "outputs": [
    {
     "name": "stdout",
     "output_type": "stream",
     "text": [
      "The current wind speed is 5.6mph. It is 71.6 degrees, but feels like 76.2 degrees, but is actually 71.6 degrees, making a difference of 4.6 degrees.\n"
     ]
    }
   ],
   "source": [
    "print(f\"The current wind speed is {wind_mph}mph. It is {current_temp_f} degrees, but feels like {feelslike_f} degrees, but is actually {current_temp_f} degrees, making a difference of {round(abs(current_temp_f - feelslike_f),2)} degrees.\")"
   ]
  },
  {
   "cell_type": "markdown",
   "metadata": {},
   "source": [
    "## 3) What is the API endpoint for moon-related information? For the place you decided on above, how much of the moon will be visible on next Thursday?\n",
    "\n",
    "- *Tip: Check the documentation!*\n",
    "- *Tip: If you aren't sure what something means, ask in Slack*"
   ]
  },
  {
   "cell_type": "code",
   "execution_count": 7,
   "metadata": {},
   "outputs": [],
   "source": [
    "mtl_moon = requests.get(\"https://api.weatherapi.com/v1/astronomy.json?key=YOUR_KEY_HERE&q=Montreal&dt=2021-06-21\").json()"
   ]
  },
  {
   "cell_type": "code",
   "execution_count": 8,
   "metadata": {},
   "outputs": [],
   "source": [
    "moon_phase = mtl_moon['astronomy']['astro']['moon_phase']"
   ]
  },
  {
   "cell_type": "code",
   "execution_count": 9,
   "metadata": {},
   "outputs": [],
   "source": [
    "moon_illumination = mtl_moon['astronomy']['astro']['moon_illumination']"
   ]
  },
  {
   "cell_type": "code",
   "execution_count": 10,
   "metadata": {},
   "outputs": [
    {
     "name": "stdout",
     "output_type": "stream",
     "text": [
      "The moon will be in the Waxing Gibbous phase illuminated at 79%.\n"
     ]
    }
   ],
   "source": [
    "print(f\"The moon will be in the {moon_phase} phase illuminated at {moon_illumination}%.\")"
   ]
  },
  {
   "cell_type": "markdown",
   "metadata": {},
   "source": [
    "## 4) What's the difference between the high and low temperatures for today?\n",
    "\n",
    "- *Tip: When you requested moon data, you probably overwrote your variables! If so, you'll need to make a new request.*"
   ]
  },
  {
   "cell_type": "code",
   "execution_count": 11,
   "metadata": {},
   "outputs": [],
   "source": [
    "mtl_weather = requests.get(\"https://api.weatherapi.com/v1/forecast.json?key=YOUR_KEY_HERE&q=Montreal&days=1&aqi=no&alerts=no\").json()"
   ]
  },
  {
   "cell_type": "code",
   "execution_count": 12,
   "metadata": {},
   "outputs": [],
   "source": [
    "maxtemp_f = mtl_weather['forecast']['forecastday'][0]['day']['maxtemp_f']"
   ]
  },
  {
   "cell_type": "code",
   "execution_count": 13,
   "metadata": {},
   "outputs": [],
   "source": [
    "mintemp_f = mtl_weather['forecast']['forecastday'][0]['day']['mintemp_f']"
   ]
  },
  {
   "cell_type": "code",
   "execution_count": 14,
   "metadata": {},
   "outputs": [
    {
     "name": "stdout",
     "output_type": "stream",
     "text": [
      "The difference between the highest (80.2ºF) and lowest (59.2ºF) temperatures is 21.0ºF.\n"
     ]
    }
   ],
   "source": [
    "print(f\"The difference between the highest ({maxtemp_f}ºF) and lowest ({mintemp_f}ºF) temperatures is {round(maxtemp_f - mintemp_f,2)}ºF.\")"
   ]
  },
  {
   "cell_type": "code",
   "execution_count": null,
   "metadata": {},
   "outputs": [],
   "source": []
  },
  {
   "cell_type": "markdown",
   "metadata": {
    "collapsed": true
   },
   "source": [
    "## 4.5) How can you avoid the \"oh no I don't have the data any more because I made another request\" problem in the future?\n",
    "\n",
    "What variable(s) do you have to rename, and what would you rename them?"
   ]
  },
  {
   "cell_type": "code",
   "execution_count": 15,
   "metadata": {},
   "outputs": [],
   "source": [
    "# whatever variable(s) used to make the request if the variables weren't renamed (in this case, mtl_weather and mtl_moon)"
   ]
  },
  {
   "cell_type": "code",
   "execution_count": null,
   "metadata": {},
   "outputs": [],
   "source": []
  },
  {
   "cell_type": "markdown",
   "metadata": {},
   "source": [
    "## 5) Go through the daily forecasts, printing out the next week's worth of predictions.\n",
    "\n",
    "I'd like to know the **high temperature** for each day, and whether it's **hot, warm, or cold** (based on what temperatures you think are hot, warm or cold).\n",
    "\n",
    "- *Tip: You'll need to use an `if` statement to say whether it is hot, warm or cold.*"
   ]
  },
  {
   "cell_type": "code",
   "execution_count": 16,
   "metadata": {},
   "outputs": [],
   "source": [
    "mtl_forecast = requests.get(\"https://api.weatherapi.com/v1/forecast.json?key=YOUR_KEY_HERE&q=Montreal&days=7&aqi=no&alerts=no\").json()"
   ]
  },
  {
   "cell_type": "code",
   "execution_count": 17,
   "metadata": {},
   "outputs": [
    {
     "name": "stdout",
     "output_type": "stream",
     "text": [
      "The max temperature on 2021-06-20 will be 80.2ºF and it's going to be a hot one.\n",
      "The max temperature on 2021-06-21 will be 84.0ºF and it's going to be a hot one.\n",
      "The max temperature on 2021-06-22 will be 63.1ºF and it's going to be cold.\n"
     ]
    }
   ],
   "source": [
    "for date in mtl_forecast['forecast']['forecastday']:\n",
    "  if date['day']['maxtemp_f'] >= 80:\n",
    "    print(f\"The max temperature on {date['date']} will be {date['day']['maxtemp_f']}ºF and it's going to be a hot one.\")\n",
    "  elif date['day']['maxtemp_f'] >= 65:\n",
    "    print(f\"The max temperature on {date['date']} will be {date['day']['maxtemp_f']}ºF and it's going to be toasty.\")\n",
    "  else:\n",
    "    print(f\"The max temperature on {date['date']} will be {date['day']['maxtemp_f']}ºF and it's going to be cold.\")"
   ]
  },
  {
   "cell_type": "markdown",
   "metadata": {},
   "source": [
    "# 6) What will be the hottest day in the next week? What is the high temperature on that day?"
   ]
  },
  {
   "cell_type": "code",
   "execution_count": 18,
   "metadata": {},
   "outputs": [],
   "source": [
    "maxes = [date['day']['maxtemp_f'] for date in mtl_forecast['forecast']['forecastday']]"
   ]
  },
  {
   "cell_type": "code",
   "execution_count": 19,
   "metadata": {},
   "outputs": [
    {
     "name": "stdout",
     "output_type": "stream",
     "text": [
      "The highest temperature in the next 3 days wil be 84.0ºF.\n"
     ]
    }
   ],
   "source": [
    "print(f\"The highest temperature in the next 3 days wil be {max(maxes)}ºF.\")"
   ]
  },
  {
   "cell_type": "markdown",
   "metadata": {},
   "source": [
    "## 7) What's the weather looking like for the next 24+ hours in Miami, Florida?\n",
    "\n",
    "I'd like to know the temperature for every hour, and if it's going to have cloud cover of more than 50% say \"{temperature} and cloudy\" instead of just the temperature. \n",
    "\n",
    "- *Tip: You'll only need one day of forecast*"
   ]
  },
  {
   "cell_type": "code",
   "execution_count": 20,
   "metadata": {},
   "outputs": [],
   "source": [
    "mia_weather = requests.get(\"https://api.weatherapi.com/v1/forecast.json?key=YOUR_KEY_HERE&q=Miami&days=1&aqi=no&alerts=no\").json()"
   ]
  },
  {
   "cell_type": "code",
   "execution_count": 21,
   "metadata": {},
   "outputs": [
    {
     "name": "stdout",
     "output_type": "stream",
     "text": [
      "At 2021-06-20 00:00, it will be 82.9ºF and cloudy.\n",
      "At 2021-06-20 01:00, it will be 82.9ºF and cloudy.\n",
      "At 2021-06-20 02:00, it will be 82.9ºF and cloudy.\n",
      "At 2021-06-20 03:00, it will be 82.8ºF and cloudy.\n",
      "At 2021-06-20 04:00, it will be 82.4ºF and cloudy.\n",
      "At 2021-06-20 05:00, it will be 82.2ºF and cloudy.\n",
      "At 2021-06-20 06:00, it will be 82.4ºF and cloudy.\n",
      "At 2021-06-20 07:00, it will be 82.8ºF and cloudy.\n",
      "At 2021-06-20 08:00, it will be 82.9ºF and cloudy.\n",
      "At 2021-06-20 09:00, it will be 83.5ºF and cloudy.\n",
      "At 2021-06-20 10:00, it will be 84.2ºF and cloudy.\n",
      "At 2021-06-20 11:00, it will be 84.7ºF and cloudy.\n",
      "At 2021-06-20 12:00, it will be 84.9ºF and cloudy.\n",
      "At 2021-06-20 13:00, it will be 85.1ºF and cloudy.\n",
      "At 2021-06-20 14:00, it will be 85.3ºF and cloudy.\n",
      "At 2021-06-20 15:00, it will be 85.3ºF and cloudy.\n",
      "At 2021-06-20 16:00, it will be 85.3ºF and cloudy.\n",
      "At 2021-06-20 17:00, it will be 85.3ºF and cloudy.\n",
      "At 2021-06-20 18:00, it will be 84.9ºF and cloudy.\n",
      "At 2021-06-20 19:00, it will be 84.6ºF and cloudy.\n",
      "At 2021-06-20 20:00, it will be 84.2ºF and cloudy.\n",
      "At 2021-06-20 21:00, it will be 83.8ºF and cloudy.\n",
      "At 2021-06-20 22:00, it will be 83.5ºF and cloudy.\n",
      "At 2021-06-20 23:00, it will be 83.1ºF and cloudy.\n"
     ]
    }
   ],
   "source": [
    "for hour in mia_weather['forecast']['forecastday'][0]['hour']:\n",
    "  if hour['cloud'] > 50:\n",
    "    print(f\"At {hour['time']}, it will be {hour['temp_f']}ºF and cloudy.\")\n",
    "  else:\n",
    "    print(f\"At {hour['time']}, it will be {hour['temp_f']}ºF.\")"
   ]
  },
  {
   "cell_type": "markdown",
   "metadata": {},
   "source": [
    "# 8) For the next 24-ish hours in Miami, what percent of the time is the temperature above 85 degrees?\n",
    "\n",
    "- *Tip: You might want to read up on [looping patterns](http://jonathansoma.com/lede/foundations-2017/classes/data%20structures/looping-patterns/)*"
   ]
  },
  {
   "cell_type": "code",
   "execution_count": 22,
   "metadata": {},
   "outputs": [],
   "source": [
    "count = 0"
   ]
  },
  {
   "cell_type": "code",
   "execution_count": 23,
   "metadata": {},
   "outputs": [
    {
     "name": "stdout",
     "output_type": "stream",
     "text": [
      "20.83% of the next 24-ish hours in Miami will be above 85ºF.\n"
     ]
    }
   ],
   "source": [
    "for hour in mia_weather['forecast']['forecastday'][0]['hour']:\n",
    "  if hour['temp_f'] > 85:\n",
    "    count = count + 1\n",
    "print(f\"{round(count/24*100,2)}% of the next 24-ish hours in Miami will be above 85ºF.\")"
   ]
  },
  {
   "cell_type": "markdown",
   "metadata": {},
   "source": [
    "## 9) What was the temperature in Central Park on Christmas Day, 2020? How about 2012? 2007? How far back does the API allow you to go?\n",
    "\n",
    "- *Tip: You'll need to use latitude/longitude. You can ask Google where Central Park is, it knows*\n",
    "- *Tip: Remember when latitude/longitude might use negative numbers*"
   ]
  },
  {
   "cell_type": "code",
   "execution_count": 24,
   "metadata": {},
   "outputs": [],
   "source": [
    "# I can't access this via the free version o(TヘTo)"
   ]
  }
 ],
 "metadata": {
  "kernelspec": {
   "display_name": "Python 3",
   "language": "python",
   "name": "python3"
  },
  "language_info": {
   "codemirror_mode": {
    "name": "ipython",
    "version": 3
   },
   "file_extension": ".py",
   "mimetype": "text/x-python",
   "name": "python",
   "nbconvert_exporter": "python",
   "pygments_lexer": "ipython3",
   "version": "3.8.10"
  }
 },
 "nbformat": 4,
 "nbformat_minor": 1
}
